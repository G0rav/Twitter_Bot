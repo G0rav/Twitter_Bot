{
 "cells": [
  {
   "cell_type": "markdown",
   "metadata": {
    "id": "TRxLj7QMTGHy"
   },
   "source": [
    "## Importing necessary libraries"
   ]
  },
  {
   "cell_type": "code",
   "execution_count": 2,
   "metadata": {
    "id": "Th9m2wYvsALn"
   },
   "outputs": [
    {
     "data": {
      "text/plain": [
       "'\\nhttps://sites.google.com/a/chromium.org/chromedriver/downloads\\n\\n'"
      ]
     },
     "execution_count": 2,
     "metadata": {},
     "output_type": "execute_result"
    }
   ],
   "source": [
    "#pip install selenium\n",
    "\n",
    "#Download chromedriver as per your chrome version and put it in a disk.\n",
    "'''\n",
    "https://sites.google.com/a/chromium.org/chromedriver/downloads\n",
    "\n",
    "'''"
   ]
  },
  {
   "cell_type": "code",
   "execution_count": 57,
   "metadata": {},
   "outputs": [],
   "source": [
    "import time\n",
    "from super_secret import *\n",
    "from selenium import webdriver      #importing webdrivers to use browsers for automation\n",
    "from selenium.webdriver.common.keys import Keys    # importing Keys (not keys) for various mouse and keyboard fumctions"
   ]
  },
  {
   "cell_type": "code",
   "execution_count": 58,
   "metadata": {},
   "outputs": [],
   "source": [
    "drivepath = \"C:\\chromedriver\\chromedriver.exe\"   #assigning path for chromeweb driver exe file\n",
    "driver = webdriver.Chrome(drivepath)       #making chrome webdriver object for use"
   ]
  },
  {
   "cell_type": "code",
   "execution_count": 59,
   "metadata": {},
   "outputs": [
    {
     "data": {
      "text/plain": [
       "{'width': 1296, 'height': 696}"
      ]
     },
     "execution_count": 59,
     "metadata": {},
     "output_type": "execute_result"
    }
   ],
   "source": [
    "driver.maximize_window()\n",
    "maximum_size = driver.get_window_size()\n",
    "maximum_size"
   ]
  },
  {
   "cell_type": "code",
   "execution_count": 60,
   "metadata": {},
   "outputs": [
    {
     "data": {
      "text/plain": [
       "{'height': 696, 'width': 648, 'x': 648, 'y': 0}"
      ]
     },
     "execution_count": 60,
     "metadata": {},
     "output_type": "execute_result"
    }
   ],
   "source": [
    "driver.set_window_size(maximum_size['width']/2,\n",
    "                       maximum_size['height'])\n",
    "driver.set_window_position(maximum_size['width']/2,0)"
   ]
  },
  {
   "cell_type": "markdown",
   "metadata": {
    "id": "fwzx3KPXTGH8"
   },
   "source": [
    "## Open Twitter & Enter Login details and click login"
   ]
  },
  {
   "cell_type": "code",
   "execution_count": 61,
   "metadata": {
    "id": "LMKmbfYXTGH6",
    "outputId": "c8e9731b-f1c1-4823-c8aa-64f3c1565471"
   },
   "outputs": [
    {
     "name": "stdout",
     "output_type": "stream",
     "text": [
      "Login on Twitter / Twitter\n"
     ]
    }
   ],
   "source": [
    "driver.get('https://twitter.com/login')     # .get function for accessing any website\n",
    "print(driver.title)"
   ]
  },
  {
   "cell_type": "code",
   "execution_count": 62,
   "metadata": {},
   "outputs": [],
   "source": [
    "#to make username box visible\n",
    "driver.find_element_by_xpath('//*[@id=\"react-root\"]/div/div/div[2]/main/div/div/div[2]/form/div/div[1]/label/div/div[2]/div').click()\n",
    "\n",
    "username = driver.find_element_by_xpath('//*[@id=\"react-root\"]/div/div/div[2]/main/div/div/div[2]/form/div/div[1]/label/div/div[2]/div/input')\n",
    "username.click()      \n",
    "username.send_keys(Username)        #to enter any text in box\n",
    "\n",
    "#to make password box visible\n",
    "driver.find_element_by_xpath('//*[@id=\"react-root\"]/div/div/div[2]/main/div/div/div[2]/form/div/div[2]/label/div/div[2]').click()\n",
    "\n",
    "password = driver.find_element_by_xpath('//*[@id=\"react-root\"]/div/div/div[2]/main/div/div/div[2]/form/div/div[2]/label/div/div[2]/div/input')\n",
    "password.click()      \n",
    "password.send_keys(Password)        #to enter any text in box\n",
    "\n",
    "#login button\n",
    "log_in = driver.find_element_by_xpath('//*[@id=\"react-root\"]/div/div/div[2]/main/div/div/div[2]/form/div/div[3]/div/div')\n",
    "log_in.click()     "
   ]
  },
  {
   "cell_type": "markdown",
   "metadata": {},
   "source": [
    "# Unfollow"
   ]
  },
  {
   "cell_type": "code",
   "execution_count": 74,
   "metadata": {},
   "outputs": [],
   "source": [
    "#following page\n",
    "driver.get(f'https://twitter.com/{Username}/following')"
   ]
  },
  {
   "cell_type": "code",
   "execution_count": 75,
   "metadata": {},
   "outputs": [],
   "source": [
    "def unfollow(start, end):\n",
    "    for i,iterator in enumerate(range(start,end), start=1):\n",
    "        time.sleep(10)\n",
    "        \n",
    "        try:\n",
    "            following_xpath = f'//*[@id=\"react-root\"]/div/div/div[2]/main/div/div/div/div/div/div[2]/section/div/div/div[{iterator}]/div/div/div/div[2]/div[1]/div[2]'\n",
    "            driver.find_element_by_xpath(following_xpath).click()\n",
    "        except:\n",
    "            print(f'{i} fail')\n",
    "            pass\n",
    "    \n",
    "        try:\n",
    "            time.sleep(4)\n",
    "            unfollow_xpath = '//*[@id=\"layers\"]/div[2]/div/div/div/div/div/div[2]/div[2]/div[3]/div[2]/div'\n",
    "            driver.find_element_by_xpath(unfollow_xpath).click()\n",
    "            print(f'{i} Success')\n",
    "        except:\n",
    "            pass\n",
    "        \n",
    "        print(f'{int((i/(end-start))*100)}% Completed\\n')"
   ]
  },
  {
   "cell_type": "code",
   "execution_count": 76,
   "metadata": {},
   "outputs": [
    {
     "name": "stdout",
     "output_type": "stream",
     "text": [
      "1 Success\n",
      "20% Completed\n",
      "\n",
      "2 Success\n",
      "40% Completed\n",
      "\n",
      "3 Success\n",
      "60% Completed\n",
      "\n",
      "4 Success\n",
      "80% Completed\n",
      "\n",
      "5 Success\n",
      "100% Completed\n",
      "\n"
     ]
    }
   ],
   "source": [
    "start = 1\n",
    "end = 6\n",
    "\n",
    "unfollow(start, end)"
   ]
  },
  {
   "cell_type": "code",
   "execution_count": null,
   "metadata": {},
   "outputs": [],
   "source": []
  },
  {
   "cell_type": "code",
   "execution_count": null,
   "metadata": {},
   "outputs": [],
   "source": []
  },
  {
   "cell_type": "code",
   "execution_count": null,
   "metadata": {},
   "outputs": [],
   "source": []
  }
 ],
 "metadata": {
  "colab": {
   "collapsed_sections": [],
   "name": "web automation.ipynb",
   "provenance": []
  },
  "kernelspec": {
   "display_name": "Python 3",
   "language": "python",
   "name": "python3"
  },
  "language_info": {
   "codemirror_mode": {
    "name": "ipython",
    "version": 3
   },
   "file_extension": ".py",
   "mimetype": "text/x-python",
   "name": "python",
   "nbconvert_exporter": "python",
   "pygments_lexer": "ipython3",
   "version": "3.7.4"
  }
 },
 "nbformat": 4,
 "nbformat_minor": 4
}
